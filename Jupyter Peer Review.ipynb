{
  "metadata": {
    "language_info": {
      "codemirror_mode": {
        "name": "python",
        "version": 3
      },
      "file_extension": ".py",
      "mimetype": "text/x-python",
      "name": "python",
      "nbconvert_exporter": "python",
      "pygments_lexer": "ipython3",
      "version": "3.8"
    },
    "kernelspec": {
      "name": "python",
      "display_name": "Pyolite",
      "language": "python"
    },
    "toc-showmarkdowntxt": true
  },
  "nbformat_minor": 4,
  "nbformat": 4,
  "cells": [
    {
      "cell_type": "markdown",
      "source": "# My Jupyter Notebook on IBM Watson Studio",
      "metadata": {}
    },
    {
      "cell_type": "markdown",
      "source": "**David Robertson** \n\nProcess Improvement Director",
      "metadata": {}
    },
    {
      "cell_type": "markdown",
      "source": "*I am interested in Data Science because I want to be better equipped to extract and process the data needed for business improvement and growth without being limited by legacy systems.*",
      "metadata": {}
    },
    {
      "cell_type": "markdown",
      "source": "### The code below should simply add 3 + 5.",
      "metadata": {}
    },
    {
      "cell_type": "code",
      "source": "3 + 5",
      "metadata": {
        "trusted": true
      },
      "execution_count": 2,
      "outputs": [
        {
          "execution_count": 2,
          "output_type": "execute_result",
          "data": {
            "text/plain": "8"
          },
          "metadata": {}
        }
      ]
    },
    {
      "cell_type": "markdown",
      "source": "|header|header|\n|------|------|\n|~~cell~~|~~cell~~|\n\n1. Numbered list item one\n2. Numbered list item two\n * Sublist of two\n * Sublist two of two\n  ",
      "metadata": {}
    }
  ]
}